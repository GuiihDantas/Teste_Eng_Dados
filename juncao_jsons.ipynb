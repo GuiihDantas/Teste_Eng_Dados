{
 "cells": [
  {
   "cell_type": "code",
   "execution_count": null,
   "metadata": {},
   "outputs": [],
   "source": [
    "# Para popular todos os Jsons na tabela, tive que juntá-los.\n",
    "# Utilizei o Python Jupyter Notebook para fazer o (MERGE)\n",
    "\n",
    "\n",
    "import json\n",
    "import glob\n",
    "\n",
    "read_files = glob.glob(\"ads/*.json\")\n",
    "output_list = []\n",
    "\n",
    "for f in read_files:\n",
    "    with open(f, \"rb\") as infile:\n",
    "        output_list.append(json.load(infile))\n",
    "\n",
    "with open(\"merged_file.json\", \"w\") as outfile:\n",
    "    json.dump(output_list, outfile)"
   ]
  }
 ],
 "metadata": {
  "kernelspec": {
   "display_name": "Python 3",
   "language": "python",
   "name": "python3"
  },
  "language_info": {
   "codemirror_mode": {
    "name": "ipython",
    "version": 3
   },
   "file_extension": ".py",
   "mimetype": "text/x-python",
   "name": "python",
   "nbconvert_exporter": "python",
   "pygments_lexer": "ipython3",
   "version": "3.8.3"
  }
 },
 "nbformat": 4,
 "nbformat_minor": 4
}
